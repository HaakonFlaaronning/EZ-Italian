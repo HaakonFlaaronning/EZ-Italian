{
 "cells": [
  {
   "cell_type": "markdown",
   "metadata": {},
   "source": [
    "# Add sentence reference to each sentence in every story for each word in common words\n",
    "\n",
    "Ref: storynumber_sentencenumber"
   ]
  },
  {
   "cell_type": "code",
   "execution_count": 4,
   "metadata": {},
   "outputs": [
    {
     "name": "stderr",
     "output_type": "stream",
     "text": [
      "[nltk_data] Downloading package punkt to\n",
      "[nltk_data]     C:\\Users\\haafla\\AppData\\Roaming\\nltk_data...\n",
      "[nltk_data]   Package punkt is already up-to-date!\n",
      "[nltk_data] Downloading package punkt_tab to\n",
      "[nltk_data]     C:\\Users\\haafla\\AppData\\Roaming\\nltk_data...\n",
      "[nltk_data]   Unzipping tokenizers\\punkt_tab.zip.\n"
     ]
    },
    {
     "data": {
      "text/plain": [
       "True"
      ]
     },
     "execution_count": 4,
     "metadata": {},
     "output_type": "execute_result"
    }
   ],
   "source": [
    "import pandas as pd\n",
    "import os\n",
    "import re\n",
    "import nltk\n",
    "from nltk.tokenize import sent_tokenize\n",
    "\n",
    "nltk.download('punkt')\n",
    "nltk.download('punkt_tab')\n"
   ]
  },
  {
   "cell_type": "code",
   "execution_count": 12,
   "metadata": {},
   "outputs": [],
   "source": [
    "# Open common_words.csv\n",
    "common_words = pd.read_csv('./data/common_words.csv', delimiter=';')\n",
    "# nltk.download('popular')\n",
    "\n",
    "# Open all stories inside the stories folder\n",
    "for file in os.listdir('./stories'):\n",
    "  story_num = file.split('_')[0]\n",
    "  with open('./stories/' + file, 'r') as f:\n",
    "    story = f.read()\n",
    "    \n",
    "  it_story = story.split(';;;')[0]\n",
    "  # Split the story into sentences\n",
    "  sentences = sent_tokenize(it_story)\n",
    "  \n",
    "  # Find sentence refernces for each common word\n",
    "  common_words['Sentence references'] = ''\n",
    "  for index, row in common_words.iterrows():\n",
    "    word = row['Word']\n",
    "    sentence_references = []\n",
    "    for i, sentence in enumerate(sentences):\n",
    "      if word in sentence:\n",
    "        sentence_references.append(f'{story_num}_{i}')\n",
    "    common_words.at[index, 'Sentence references'] = sentence_references\n",
    "    \n",
    "  # Save the common_words dataframe\n",
    "  common_words.to_csv('./data/common_words.csv', sep=';', index=False)"
   ]
  }
 ],
 "metadata": {
  "kernelspec": {
   "display_name": "prego",
   "language": "python",
   "name": "python3"
  },
  "language_info": {
   "codemirror_mode": {
    "name": "ipython",
    "version": 3
   },
   "file_extension": ".py",
   "mimetype": "text/x-python",
   "name": "python",
   "nbconvert_exporter": "python",
   "pygments_lexer": "ipython3",
   "version": "3.12.7"
  }
 },
 "nbformat": 4,
 "nbformat_minor": 2
}

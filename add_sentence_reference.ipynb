{
 "cells": [
  {
   "cell_type": "markdown",
   "metadata": {},
   "source": [
    "# Add sentence reference to each sentence in every story for each word in common words\n",
    "\n",
    "Ref: storynumber_sentencenumber"
   ]
  },
  {
   "cell_type": "code",
   "execution_count": 1,
   "metadata": {},
   "outputs": [
    {
     "name": "stderr",
     "output_type": "stream",
     "text": [
      "[nltk_data] Downloading package punkt to\n",
      "[nltk_data]     C:\\Users\\haafla\\AppData\\Roaming\\nltk_data...\n",
      "[nltk_data]   Package punkt is already up-to-date!\n",
      "[nltk_data] Downloading package punkt_tab to\n",
      "[nltk_data]     C:\\Users\\haafla\\AppData\\Roaming\\nltk_data...\n",
      "[nltk_data]   Package punkt_tab is already up-to-date!\n"
     ]
    },
    {
     "data": {
      "text/plain": [
       "True"
      ]
     },
     "execution_count": 1,
     "metadata": {},
     "output_type": "execute_result"
    }
   ],
   "source": [
    "import pandas as pd\n",
    "import os\n",
    "import re\n",
    "import nltk\n",
    "from nltk.tokenize import sent_tokenize, word_tokenize\n",
    "\n",
    "nltk.download('punkt')\n",
    "nltk.download('punkt_tab')\n"
   ]
  },
  {
   "cell_type": "code",
   "execution_count": 4,
   "metadata": {},
   "outputs": [],
   "source": [
    "import os\n",
    "import re\n",
    "import pandas as pd\n",
    "from nltk.tokenize import sent_tokenize\n",
    "\n",
    "# Open common_words.csv\n",
    "common_words = pd.read_csv('./data/common_words.csv', delimiter=';')\n",
    "\n",
    "# Empty all sentence references for each word before processing stories\n",
    "common_words['Sentence references'] = '[]'\n",
    "\n",
    "# Process each story file in the stories folder\n",
    "for file in os.listdir('./stories'):\n",
    "  story_num = file.split('_')[0]\n",
    "  with open(os.path.join('./stories', file), 'r') as f:\n",
    "    story = f.read()\n",
    "  \n",
    "  # Clean the story text\n",
    "  story = story.replace('\\n', ' ').replace('”', '').replace('“', '')\n",
    "  \n",
    "  # Use only the Italian story part (if applicable)\n",
    "  it_story = story.split(';;;')[0]\n",
    "  \n",
    "  # Split the story into sentences\n",
    "  sentences = sent_tokenize(it_story)\n",
    "  \n",
    "  # For each common word, update its sentence references\n",
    "  for index, row in common_words.iterrows():\n",
    "    word = row['Word']\n",
    "    \n",
    "    # Retrieve the current sentence references (if any)\n",
    "    current_refs = []\n",
    "    cell = row.get('Sentence references', '')\n",
    "    if pd.notna(cell) and cell.strip():\n",
    "      try:\n",
    "        current_refs = eval(cell)  # assuming the cell is a string like \"['1_0', '2_3']\"\n",
    "      except Exception as e:\n",
    "        current_refs = []\n",
    "    \n",
    "    # Check each sentence for the word and add new references\n",
    "    for i, sentence in enumerate(sentences):\n",
    "      # Find all words in the sentence\n",
    "      words_in_sentence = re.findall(r'\\b\\w+\\b', sentence)\n",
    "      if word in words_in_sentence:\n",
    "        new_ref = f'{story_num}_{i}'\n",
    "        if new_ref not in current_refs:\n",
    "          current_refs.append(new_ref)\n",
    "    \n",
    "    # Update the DataFrame cell with the new references (stored as a string)\n",
    "    common_words.at[index, 'Sentence references'] = str(current_refs)\n",
    "  \n",
    "  # Save the updated common_words DataFrame to CSV after each story\n",
    "  common_words.to_csv('./data/common_words.csv', sep=';', index=False)\n"
   ]
  },
  {
   "cell_type": "code",
   "execution_count": 5,
   "metadata": {},
   "outputs": [
    {
     "name": "stdout",
     "output_type": "stream",
     "text": [
      "Sentence references\n",
      "0     804\n",
      "1      84\n",
      "2      36\n",
      "3      22\n",
      "4      12\n",
      "5       9\n",
      "6       4\n",
      "7       2\n",
      "8       6\n",
      "9       1\n",
      "10      3\n",
      "13      2\n",
      "16      1\n",
      "17      1\n",
      "21      2\n",
      "25      2\n",
      "26      2\n",
      "33      2\n",
      "47      3\n",
      "60      1\n",
      "62      1\n",
      "Name: count, dtype: int64\n"
     ]
    }
   ],
   "source": [
    "# Check how many words in the common_words.csv have sentence references\n",
    "common_words = pd.read_csv('./data/common_words.csv', delimiter=';')\n",
    "# Turn sentence ref from string to list (\"[1, 2, 3]\" -> [1, 2, 3])\n",
    "common_words['Sentence references'] = common_words['Sentence references'].apply(lambda x: eval(x))\n",
    "# Create value counts of length of sentence references\n",
    "sentence_ref_counts = common_words['Sentence references'].apply(lambda x: len(x)).value_counts()\n",
    "# Print sorted value counts\n",
    "print(sentence_ref_counts.sort_index())"
   ]
  },
  {
   "cell_type": "code",
   "execution_count": 5,
   "metadata": {},
   "outputs": [
    {
     "data": {
      "text/plain": [
       "['C’era una volta, al centro di una fitta foresta, una casetta, dove viveva una graziosa bambina chiamata Cappuccetto Rosso.',\n",
       " 'Un giorno assolato, la madre la chiamò nella cucina della casetta.',\n",
       " '«La nonna è malata,» disse.',\n",
       " '«Portale questa cesta di focaccine, ma stai attenta!',\n",
       " 'Resta sul sentiero quando attraversi la foresta e non fermarti!',\n",
       " 'Se cammini in fretta, non incontrerai pericoli.»  «Non preoccuparti,» disse, «correrò dalla nonna senza fermarmi.» Cappuccetto Rosso baciò la madre e se ne andò.',\n",
       " 'La bambina iniziò il lungo tragitto nella foresta.',\n",
       " '...Ma ben presto dimenticò le parole sagge della madre.',\n",
       " 'Vide un cespuglio di more accanto al sentiero.',\n",
       " '«Che belle more!» esclamò, poggiando a terra il cestino.',\n",
       " '«Sono così graziose e mature... e così grandi!',\n",
       " 'Deliziose!',\n",
       " 'Forse potrei provarne ancora una...»  Improvvisamente, Cappuccetto Rosso ricordò la madre, la sua promessa, la nonna e il cestino... Ritornò in fretta sul sentiero.',\n",
       " 'La foresta divenne sempre più fitta.',\n",
       " 'Una farfalla gialla volava tra gli alberi.',\n",
       " '«Oh, che bella!» gridò.',\n",
       " 'E diede la caccia alla farfalla tra gli alberi.',\n",
       " '«Ora ti prendo!»  Poi vide dei fiori viola nell’erba.',\n",
       " '«Oh, che belli!» esclamò, «Alla nonna piaceranno!» E colse un enorme mazzo di fiori.',\n",
       " 'Nel frattempo, due occhi minacciosi la guardavano da dietro un albero.',\n",
       " 'Uno strano rumore nel bosco fece trasalire Cappuccetto Rosso per lo spavento e il cuore iniziò a batterle forte.',\n",
       " '«Devo ritrovare il sentiero e allontanarmi da qui, rapidamente!»  Cappuccetto Rosso si mise a correre e finalmente ritrovò il sentiero.',\n",
       " 'Ma non appena iniziò a rilassarsi, sentì un altro strano rumore dietro di lei...  ...Un vocione disse: «Ciao, bambina.',\n",
       " 'Perché passeggi tutta sola nella foresta?',\n",
       " 'Dove vai?»  «Sto portando delle focacce a mia nonna.',\n",
       " 'Vive alla fine di questo sentiero,» disse Cappuccetto Rosso con voce sottile.',\n",
       " '«La nonna vive da sola?» chiese il lupo (poiché era con un grosso lupo cattivo che stava parlando la bambina).',\n",
       " '«Oh, sì,» rispose Cappuccetto Rosso, «e non apre mai la porta agli estranei!»  «Hai una nonna molto intelligente,» rispose il lupo.',\n",
       " '«Bene, è stato un piacere parlare con te.',\n",
       " 'Forse ci incontreremo ancora!»  Il lupo se ne andò, pensando: «Mmmm, mangerò prima la nonna, poi aspetterò l’arrivo della bambina.»  Il lupo arrivò alla fine del sentiero, dove si trovava la casetta.',\n",
       " 'Toc!',\n",
       " 'Toc!',\n",
       " 'Il lupo bussò alla porta.',\n",
       " '«Chi è?» chiese la nonna dal letto.',\n",
       " '«Sono io, Cappuccetto Rosso.',\n",
       " 'Ti ho portato le focacce perché sei malata,» rispose il lupo, facendo del suo meglio per nascondere il vocione da lupo.',\n",
       " '«Oh, è stupendo!» disse la nonna.',\n",
       " 'Non notò nulla di strano.',\n",
       " '«Entra!»  Povera nonna!',\n",
       " 'In meno di due secondi il lupo aveva attraversato la stanza e ingoiato la vecchietta.',\n",
       " 'Un boccone!',\n",
       " 'Poi il lupo indossò il vestito e la cuffia della nonna e scivolò nel letto.',\n",
       " 'Poco dopo, Cappuccetto Rosso bussò alla porta.',\n",
       " '«Nonna, sono io.',\n",
       " 'Posso entrare?»  Il lupo cercò di imitare la vocina della nonna e rispose: «Ciao, mia cara!',\n",
       " 'Entra!»  «Nonna, che voce forte che hai!» disse la bambina sorpresa.',\n",
       " '«È per salutarti meglio, mia cara,» disse il lupo.',\n",
       " '«E che occhi grandi che hai...»  «È per vederti meglio, mia cara!»  «E che mani grandi che hai!» esclamò Cappuccetto Rosso, avvicinandosi al letto.',\n",
       " '«È per abbracciarti meglio, mia cara!» disse il lupo.',\n",
       " '«... E che bocca grande che hai,» bisbigliò la bambina con voce flebile.',\n",
       " '«È per MANGIARTI meglio!» ringhiò il lupo, che saltò dal letto e inghiottì anche lei.',\n",
       " 'Poi, con lo stomaco pieno, si addormentò.',\n",
       " 'A questo punto un cacciatore emerse dalla foresta.',\n",
       " 'Vide la casa e decise di fermarsi a chiedere un bicchiere d’acqua.',\n",
       " 'Stava cercando un grosso lupo che rubava le pecore al villaggio.',\n",
       " 'Il cacciatore udì un strano fischio dentro la casa.',\n",
       " 'Guardò attraverso la finestra e vide il grosso lupo che russava sul letto della nonna.',\n",
       " '«Il lupo!',\n",
       " 'Non mi scapperà questa volta!»  Con attenzione e in silenzio, il cacciatore si introdusse nella casa.',\n",
       " 'Avvicinandosi al letto, udì il suono di una bambina che piangeva... e il suono veniva dallo stomaco del lupo!',\n",
       " 'Il cacciatore usò il coltello per tagliare lo stomaco del lupo e sbucarono Cappuccetto Rosso e la nonna, sane e salve.',\n",
       " 'Il cacciatore riempì lo stomaco del lupo con le pietre del giardino e poi lo ricucì.',\n",
       " 'Quando il lupo si svegliò e vide il cacciatore, fuggì via più velocemente possibile.',\n",
       " 'Le rocce gli procuravano un tale dolore allo stomaco che divenne vegetariano e non infastidì più il villaggio.',\n",
       " '«Ora è sicuro andare a casa,» disse il cacciatore a Cappuccetto Rosso.',\n",
       " '«Il grosso lupo cattivo se n’è andato e non ci sono più pericoli lungo il sentiero.»  La madre di Cappuccetto Rosso arrivò a casa della nonna quando il sole stava tramontando.',\n",
       " 'Si era preoccupata quando la figlia non era tornata a casa.',\n",
       " 'Quando vide Cappuccetto Rosso, scoppiò in lacrime di gioia.',\n",
       " '«Oh, sei salva!»  Dopo aver ringraziato di nuovo il cacciatore, Cappuccetto Rosso e la madre ritornarono a casa attraverso la foresta.',\n",
       " 'Mentre camminavano velocemente sotto gli alberi, la bambina disse alla madre: «Dobbiamo sempre rimanere sul sentiero e non fermarci mai.',\n",
       " 'Se lo facciamo, saremo al sicuro.']"
      ]
     },
     "execution_count": 5,
     "metadata": {},
     "output_type": "execute_result"
    }
   ],
   "source": [
    "sentences"
   ]
  }
 ],
 "metadata": {
  "kernelspec": {
   "display_name": "prego",
   "language": "python",
   "name": "python3"
  },
  "language_info": {
   "codemirror_mode": {
    "name": "ipython",
    "version": 3
   },
   "file_extension": ".py",
   "mimetype": "text/x-python",
   "name": "python",
   "nbconvert_exporter": "python",
   "pygments_lexer": "ipython3",
   "version": "3.12.7"
  }
 },
 "nbformat": 4,
 "nbformat_minor": 2
}
